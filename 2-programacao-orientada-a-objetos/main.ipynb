{
 "cells": [
  {
   "cell_type": "markdown",
   "metadata": {},
   "source": [
    "# Dando vida ao código\n",
    "***"
   ]
  },
  {
   "cell_type": "markdown",
   "metadata": {},
   "source": [
    "# 1. Realizando os imports das Classes criada"
   ]
  },
  {
   "cell_type": "code",
   "execution_count": 1,
   "metadata": {},
   "outputs": [],
   "source": [
    "from class_Banco import Banco\n",
    "from class_Conta import Conta\n",
    "from class_CartaoDeCredito import CartaoDeCredito\n"
   ]
  },
  {
   "cell_type": "markdown",
   "metadata": {},
   "source": [
    "***\n",
    "# 2. Como há dependências entre as Classes, a primeira a ser criada deve ser a **Banco**:"
   ]
  },
  {
   "cell_type": "code",
   "execution_count": 2,
   "metadata": {},
   "outputs": [
    {
     "name": "stdout",
     "output_type": "stream",
     "text": [
      "<class_Banco.Banco object at 0x000001FEFA6FCB50>\n"
     ]
    }
   ],
   "source": [
    "# Instanciando um objeto do tipo Banco\n",
    "banco = Banco('Banco')\n",
    "\n",
    "print(banco)\n"
   ]
  },
  {
   "cell_type": "markdown",
   "metadata": {},
   "source": [
    "### 2.I. Imprimindo sucesso dos atributos de **Banco**"
   ]
  },
  {
   "cell_type": "code",
   "execution_count": 3,
   "metadata": {},
   "outputs": [
    {
     "name": "stdout",
     "output_type": "stream",
     "text": [
      "Nome banco: Banco;\n",
      "Lista de Clientes: []\n"
     ]
    }
   ],
   "source": [
    "print(f'Nome banco: {banco.nome};\\nLista de Clientes: {banco.lista_clientes}')\n"
   ]
  },
  {
   "cell_type": "markdown",
   "metadata": {},
   "source": [
    "## 2.1. Testando métodos de **Banco**\n",
    "### 2.1.I. Método: **cadastrar_cliente** / criar conta\n"
   ]
  },
  {
   "cell_type": "code",
   "execution_count": 4,
   "metadata": {},
   "outputs": [
    {
     "name": "stdout",
     "output_type": "stream",
     "text": [
      "[<class_Conta.Conta object at 0x000001FEFA6FD3F0>, <class_Conta.Conta object at 0x000001FEFA6FE4A0>, <class_Conta.Conta object at 0x000001FEFA6FC970>, <class_Conta.Conta object at 0x000001FEFA6FF5B0>]\n"
     ]
    }
   ],
   "source": [
    "banco.cadastrar_cliente('Fulano', '154.594.647-03', '1326', 10000, 'Fulaninho', 40000)\n",
    "banco.cadastrar_cliente('Cicrano', '154.594.647-07', '1306', 20000, 'Fulaninho', 30000)\n",
    "banco.cadastrar_cliente('Beltrano', '154.594.647-09', '1026', 30000, 'Fulaninho', 20000)\n",
    "banco.cadastrar_cliente('Tirano', '154.594.647-10', '1356', 40000, 'Fulaninho', 10000)\n",
    "print(banco.lista_clientes)\n",
    "\n"
   ]
  },
  {
   "cell_type": "markdown",
   "metadata": {},
   "source": [
    "##### 2.1.I.a. Imprimindo clientes e atributos"
   ]
  },
  {
   "cell_type": "code",
   "execution_count": 5,
   "metadata": {},
   "outputs": [
    {
     "name": "stdout",
     "output_type": "stream",
     "text": [
      "1) Nome: Fulano, Cpf: 154.594.647-03, senha: 1326, renda: 10000, chave_pix: Fulaninho, saldo: 40000\n",
      "2) Nome: Cicrano, Cpf: 154.594.647-07, senha: 1306, renda: 20000, chave_pix: Fulaninho, saldo: 30000\n",
      "3) Nome: Beltrano, Cpf: 154.594.647-09, senha: 1026, renda: 30000, chave_pix: Fulaninho, saldo: 20000\n",
      "4) Nome: Tirano, Cpf: 154.594.647-10, senha: 1356, renda: 40000, chave_pix: Fulaninho, saldo: 10000\n"
     ]
    }
   ],
   "source": [
    "for index, item_da_lista in enumerate(banco.lista_clientes):\n",
    "    print(f'{index+1}) Nome: {item_da_lista.nome}, Cpf: {item_da_lista.cpf}, senha: {item_da_lista.senha}, renda: {item_da_lista.renda}, chave_pix: {item_da_lista.chave_pix}, saldo: {item_da_lista.saldo}')\n",
    "    "
   ]
  },
  {
   "cell_type": "markdown",
   "metadata": {},
   "source": [
    "### 2.1.II. Método: **acessar_conta**"
   ]
  },
  {
   "cell_type": "code",
   "execution_count": 6,
   "metadata": {},
   "outputs": [
    {
     "name": "stdout",
     "output_type": "stream",
     "text": [
      "<class_Conta.Conta object at 0x000001FEFA6FD3F0>\n",
      "Fulano\n"
     ]
    }
   ],
   "source": [
    "# printando acesso a conta\n",
    "print(banco.acessar_conta('154.594.647-03', '1326'))\n",
    "# printando o nome da conta acessada\n",
    "print(banco.acessar_conta('154.594.647-03', '1326').nome)\n"
   ]
  },
  {
   "cell_type": "markdown",
   "metadata": {},
   "source": [
    "##### 2.1.II.a Método: **acessar_conta** *com senha errada*"
   ]
  },
  {
   "cell_type": "code",
   "execution_count": 101,
   "metadata": {},
   "outputs": [],
   "source": [
    "# # atribuindo uma variavel auxiliar para a conta procurada e achada\n",
    "# conta_desejada = banco.acessar_conta('154.594.647-03', '1306')\n",
    "# # printando o nome da conta acessada\n",
    "# print(conta_desejada.nome)\n"
   ]
  },
  {
   "cell_type": "markdown",
   "metadata": {},
   "source": [
    "\n",
    "### 2.1.III. Método: **analisar_credito**"
   ]
  },
  {
   "cell_type": "code",
   "execution_count": 102,
   "metadata": {},
   "outputs": [
    {
     "name": "stdout",
     "output_type": "stream",
     "text": [
      "3000.0\n"
     ]
    }
   ],
   "source": [
    "# Chamando método do objeto banco analisar_credito\n",
    "print(banco.analisar_credito('154.594.647-03'))\n"
   ]
  },
  {
   "cell_type": "markdown",
   "metadata": {},
   "source": [
    "***\n",
    "# 3. A segunda Classe a ser testada será **Conta**:\n",
    "> * A conta já foi criada com o método cadastrar_cliente da classe Banco em 2.1.I.<br>\n",
    "> * Seus atributos foram impressos em 2.1.I.a.\n",
    "\n",
    "## 3.1. Testando métodos de um objeto da classe **Conta**\n",
    "> Primeiro, deve-se acessar uma conta específica\n"
   ]
  },
  {
   "cell_type": "code",
   "execution_count": 8,
   "metadata": {},
   "outputs": [],
   "source": [
    "# Iremos atribuir uma conta específica a uma variavel conta\n",
    "# e iremos fazer isso de forma aleatória\n",
    "from random import randint\n",
    "index = randint(0,3)\n",
    "\n",
    "conta = banco.lista_clientes[index]\n"
   ]
  },
  {
   "cell_type": "markdown",
   "metadata": {},
   "source": [
    "### 3.1.I. Método: **criar_cartao_de_credito**"
   ]
  },
  {
   "cell_type": "code",
   "execution_count": 9,
   "metadata": {},
   "outputs": [
    {
     "name": "stdout",
     "output_type": "stream",
     "text": [
      "lista: 9000.0; cpf: 154.594.647-09\n"
     ]
    }
   ],
   "source": [
    "# Criando um objeto cartão de crédito da classe CartaoDeCredito\n",
    "nome = 'exemplo'\n",
    "conta.criar_cartao_de_credito(banco)\n"
   ]
  },
  {
   "cell_type": "markdown",
   "metadata": {},
   "source": [
    "#### 3.1.I.a. Imprimindo atributos do objeto criado CartaoDeCredito"
   ]
  },
  {
   "cell_type": "code",
   "execution_count": 10,
   "metadata": {},
   "outputs": [
    {
     "name": "stdout",
     "output_type": "stream",
     "text": [
      "Beltrano1\n",
      "Beltrano1, 9000.0, 0.0\n"
     ]
    }
   ],
   "source": [
    "print(conta.lista_cartoes_de_credito[0].nome_cartao)\n",
    "for cartao in conta.lista_cartoes_de_credito:\n",
    "    print(f'{cartao.nome_cartao}, {cartao.limite_atual}, {cartao.valor_fatura}')\n"
   ]
  },
  {
   "cell_type": "markdown",
   "metadata": {},
   "source": [
    "### 3.1.II. Método: **pagar_boleto**"
   ]
  },
  {
   "cell_type": "code",
   "execution_count": 11,
   "metadata": {},
   "outputs": [
    {
     "name": "stdout",
     "output_type": "stream",
     "text": [
      "Saldo atual antes: 20000\n",
      "Saldo atual depois: 19500\n"
     ]
    }
   ],
   "source": [
    "print(f'Saldo atual antes: {conta.get_saldo()}')\n",
    "conta.pagar_boleto(500)\n",
    "print(f'Saldo atual depois: {conta.get_saldo()}')\n"
   ]
  },
  {
   "cell_type": "markdown",
   "metadata": {},
   "source": [
    "### 3.1.III. Método: **sacar_dinheiro**"
   ]
  },
  {
   "cell_type": "code",
   "execution_count": 12,
   "metadata": {},
   "outputs": [
    {
     "name": "stdout",
     "output_type": "stream",
     "text": [
      "Saldo atual antes: 19500\n",
      "Saldo atual depois: 19300\n"
     ]
    }
   ],
   "source": [
    "print(f'Saldo atual antes: {conta.get_saldo()}')\n",
    "conta.sacar_dinheiro(200)\n",
    "print(f'Saldo atual depois: {conta.get_saldo()}')\n"
   ]
  },
  {
   "cell_type": "markdown",
   "metadata": {},
   "source": [
    "### 3.1.IV. Método: **depositar_dinheiro**"
   ]
  },
  {
   "cell_type": "code",
   "execution_count": 13,
   "metadata": {},
   "outputs": [
    {
     "name": "stdout",
     "output_type": "stream",
     "text": [
      "Saldo atual antes: 19300\n",
      "Saldo atual depois: 19320\n"
     ]
    }
   ],
   "source": [
    "print(f'Saldo atual antes: {conta.get_saldo()}')\n",
    "conta.depositar_dinheiro(20)\n",
    "print(f'Saldo atual depois: {conta.get_saldo()}')\n"
   ]
  },
  {
   "cell_type": "code",
   "execution_count": 109,
   "metadata": {},
   "outputs": [
    {
     "name": "stdout",
     "output_type": "stream",
     "text": [
      "19320\n"
     ]
    }
   ],
   "source": [
    "print(conta.get_saldo())\n"
   ]
  },
  {
   "cell_type": "markdown",
   "metadata": {},
   "source": [
    "### 3.1.V. Método: **criar_alterar_chave_pix**"
   ]
  },
  {
   "cell_type": "code",
   "execution_count": 14,
   "metadata": {},
   "outputs": [
    {
     "name": "stdout",
     "output_type": "stream",
     "text": [
      "Chave pix antes: Fulaninho\n",
      "Chave pix depois: jabulani\n"
     ]
    }
   ],
   "source": [
    "print(f'Chave pix antes: {conta.get_chave_pix()}')\n",
    "\n",
    "conta.criar_alterar_chave_pix('jabulani')\n",
    "\n",
    "print(f'Chave pix depois: {conta.get_chave_pix()}')\n"
   ]
  },
  {
   "cell_type": "markdown",
   "metadata": {},
   "source": [
    "***\n",
    "# 4. A terceira Classe a ser testada será **CartaoDeCredito**:\n",
    "> * Objetos do tipo CartaoDeCredito já foram criado no método da conta em 3.1.I.<br>\n",
    "> * Seus atributos foram impressos em 3.1.I.a.\n",
    "\n",
    "## 4.1. Testando métodos de um objeto da classe **CartaoDeCredito**:\n",
    "> Primeiro, deve-se acessar um cartão específico\n"
   ]
  },
  {
   "cell_type": "code",
   "execution_count": 111,
   "metadata": {},
   "outputs": [
    {
     "name": "stdout",
     "output_type": "stream",
     "text": [
      "nome: Beltrano1; limite_atual: 9000.0; valor_fatura: 0.0\n"
     ]
    }
   ],
   "source": [
    "cartao = conta.lista_cartoes_de_credito[0]\n",
    "print(f'nome: {cartao.nome_cartao}; limite_atual: {cartao.limite_atual}; valor_fatura: {cartao.valor_fatura}')\n"
   ]
  },
  {
   "cell_type": "markdown",
   "metadata": {},
   "source": [
    "### 4.1.I. Método: **comprar**"
   ]
  },
  {
   "cell_type": "code",
   "execution_count": 112,
   "metadata": {},
   "outputs": [
    {
     "name": "stdout",
     "output_type": "stream",
     "text": [
      "Limite atual: 9000.0\n",
      "Fatura pós compra: 3600.0; Limite pós compra:5400.0\n"
     ]
    }
   ],
   "source": [
    "print(f'Limite atual: {cartao.limite_atual}')\n",
    "ipad = 3600\n",
    "cartao.comprar(ipad)\n",
    "print(f'Fatura pós compra: {cartao.valor_fatura}; Limite pós compra:{cartao.limite_atual}')\n"
   ]
  },
  {
   "cell_type": "markdown",
   "metadata": {},
   "source": [
    "### 4.1.II. Método: **consultar_valor_fatura**"
   ]
  },
  {
   "cell_type": "code",
   "execution_count": 113,
   "metadata": {},
   "outputs": [
    {
     "data": {
      "text/plain": [
       "3600.0"
      ]
     },
     "execution_count": 113,
     "metadata": {},
     "output_type": "execute_result"
    }
   ],
   "source": [
    "cartao.get_valor_fatura()\n"
   ]
  },
  {
   "cell_type": "markdown",
   "metadata": {},
   "source": [
    "### 4.1.III. Método: **checar_limite**"
   ]
  },
  {
   "cell_type": "code",
   "execution_count": 114,
   "metadata": {},
   "outputs": [
    {
     "data": {
      "text/plain": [
       "5400.0"
      ]
     },
     "execution_count": 114,
     "metadata": {},
     "output_type": "execute_result"
    }
   ],
   "source": [
    "cartao.get_limite()\n"
   ]
  },
  {
   "cell_type": "markdown",
   "metadata": {},
   "source": [
    "### 4.1.IV. Método: **pagar_fatura**"
   ]
  },
  {
   "cell_type": "code",
   "execution_count": 115,
   "metadata": {},
   "outputs": [
    {
     "name": "stdout",
     "output_type": "stream",
     "text": [
      "Seu troco é de R$0.0.\n"
     ]
    },
    {
     "data": {
      "text/plain": [
       "True"
      ]
     },
     "execution_count": 115,
     "metadata": {},
     "output_type": "execute_result"
    }
   ],
   "source": [
    "cartao.pagar_fatura(3600.0)\n"
   ]
  }
 ],
 "metadata": {
  "kernelspec": {
   "display_name": "Python 3.10.6 64-bit",
   "language": "python",
   "name": "python3"
  },
  "language_info": {
   "codemirror_mode": {
    "name": "ipython",
    "version": 3
   },
   "file_extension": ".py",
   "mimetype": "text/x-python",
   "name": "python",
   "nbconvert_exporter": "python",
   "pygments_lexer": "ipython3",
   "version": "3.10.6"
  },
  "orig_nbformat": 4,
  "vscode": {
   "interpreter": {
    "hash": "e197c96fe21dce20df65d3dd8985c76cda5a43289129750428192b4d7b17dcb9"
   }
  }
 },
 "nbformat": 4,
 "nbformat_minor": 2
}
