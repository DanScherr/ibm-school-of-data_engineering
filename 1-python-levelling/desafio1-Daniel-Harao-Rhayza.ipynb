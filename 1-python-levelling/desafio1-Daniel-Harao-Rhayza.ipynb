{
 "cells": [
  {
   "cell_type": "markdown",
   "metadata": {},
   "source": [
    "# Desafio 1\n",
    "***\n",
    "<ul><li>Enunciado:</li></ul>\n",
    "Este desafio consiste na elaboração de um script que realize as seguintes tarefas:"
   ]
  },
  {
   "cell_type": "code",
   "execution_count": 1,
   "metadata": {
    "id": "bwXPUg56U_x2"
   },
   "outputs": [],
   "source": [
    "# Importando bibliotecas que serão utilizadas no desafio\n",
    "import pandas as pd\n",
    "import numpy as np\n",
    "import datetime as dt\n"
   ]
  },
  {
   "cell_type": "markdown",
   "metadata": {},
   "source": [
    "<br><h3><ul><li>\n",
    " Abra o arquivo Mediçao.xls e transforme-o em DataFrame com a Biblioteca Pandas,este DataFrame deverá ter as seguintes colunas:\n",
    "</li></ul></h3>\n",
    "['RecNo', 'MeaValue', 'Weight', 'Time', 'Date', 'DataGroupIndex']"
   ]
  },
  {
   "cell_type": "code",
   "execution_count": 2,
   "metadata": {
    "colab": {
     "base_uri": "https://localhost:8080/",
     "height": 206
    },
    "id": "L2f5cIsIVR7C",
    "outputId": "080ba89e-da8c-40df-a540-4570e5e86b4e"
   },
   "outputs": [
    {
     "data": {
      "text/html": [
       "<div>\n",
       "<style scoped>\n",
       "    .dataframe tbody tr th:only-of-type {\n",
       "        vertical-align: middle;\n",
       "    }\n",
       "\n",
       "    .dataframe tbody tr th {\n",
       "        vertical-align: top;\n",
       "    }\n",
       "\n",
       "    .dataframe thead th {\n",
       "        text-align: right;\n",
       "    }\n",
       "</style>\n",
       "<table border=\"1\" class=\"dataframe\">\n",
       "  <thead>\n",
       "    <tr style=\"text-align: right;\">\n",
       "      <th></th>\n",
       "      <th>RecNo</th>\n",
       "      <th>MeaValue</th>\n",
       "      <th>Weight</th>\n",
       "      <th>Time</th>\n",
       "      <th>Date</th>\n",
       "      <th>DataGroupIndex</th>\n",
       "    </tr>\n",
       "  </thead>\n",
       "  <tbody>\n",
       "    <tr>\n",
       "      <th>0</th>\n",
       "      <td>1013</td>\n",
       "      <td>60,8</td>\n",
       "      <td>A</td>\n",
       "      <td>6:39:12</td>\n",
       "      <td>2020-12-7</td>\n",
       "      <td>1</td>\n",
       "    </tr>\n",
       "    <tr>\n",
       "      <th>1</th>\n",
       "      <td>1014</td>\n",
       "      <td>60,5</td>\n",
       "      <td>A</td>\n",
       "      <td>6:39:13</td>\n",
       "      <td>2020-12-7</td>\n",
       "      <td>1</td>\n",
       "    </tr>\n",
       "    <tr>\n",
       "      <th>2</th>\n",
       "      <td>1015</td>\n",
       "      <td>43,1</td>\n",
       "      <td>A</td>\n",
       "      <td>6:39:14</td>\n",
       "      <td>2020-12-7</td>\n",
       "      <td>1</td>\n",
       "    </tr>\n",
       "  </tbody>\n",
       "</table>\n",
       "</div>"
      ],
      "text/plain": [
       "   RecNo MeaValue Weight     Time       Date  DataGroupIndex\n",
       "0   1013     60,8      A  6:39:12  2020-12-7               1\n",
       "1   1014     60,5      A  6:39:13  2020-12-7               1\n",
       "2   1015     43,1      A  6:39:14  2020-12-7               1"
      ]
     },
     "execution_count": 2,
     "metadata": {},
     "output_type": "execute_result"
    }
   ],
   "source": [
    "df = pd.read_excel('Medicao.xls')\n",
    "df.head(3)\n"
   ]
  },
  {
   "cell_type": "markdown",
   "metadata": {},
   "source": [
    "<br><h3><ul><li>\n",
    "Selecione somente os intervalos contínuos de 1 minuto da coluna Time. \n",
    "</li></ul></h3>\n",
    "Exemplo: o script   deve   selecionar   somente   os intervalos   contínuos   que   se   iniciem   em HH:mm:00 e terminem em HH:mm:59, onde HH (hora) mm (minuto) devem ser os mesmos no intervalo;\n",
    "<br><br>Dica: descarte os dados não contínuos do DataFrame;\n",
    "<br><h3><ul><li>\n",
    "Em cada intervalo selecionado, faça a média simples dos dados da coluna MeaValue.\n",
    "</li></ul></h3>\n"
   ]
  },
  {
   "cell_type": "code",
   "execution_count": 3,
   "metadata": {
    "colab": {
     "base_uri": "https://localhost:8080/"
    },
    "id": "IJ8BAZLchaSW",
    "outputId": "f2d15e70-1cb2-4bf6-80eb-0658ae6ad3f7"
   },
   "outputs": [
    {
     "name": "stdout",
     "output_type": "stream",
     "text": [
      "<class 'pandas.core.frame.DataFrame'>\n",
      "RangeIndex: 2268 entries, 0 to 2267\n",
      "Data columns (total 6 columns):\n",
      " #   Column          Non-Null Count  Dtype \n",
      "---  ------          --------------  ----- \n",
      " 0   RecNo           2268 non-null   int64 \n",
      " 1   MeaValue        2268 non-null   object\n",
      " 2   Weight          2268 non-null   object\n",
      " 3   Time            2268 non-null   object\n",
      " 4   Date            2268 non-null   object\n",
      " 5   DataGroupIndex  2268 non-null   int64 \n",
      "dtypes: int64(2), object(4)\n",
      "memory usage: 106.4+ KB\n"
     ]
    }
   ],
   "source": [
    "# Realizando análise exploratória das estruturas de dados do DataFrame\n",
    "df.info()\n"
   ]
  },
  {
   "cell_type": "markdown",
   "metadata": {
    "id": "haBSJ3Z5iwrU"
   },
   "source": [
    "<br><h3><ul><li>\n",
    "Crie um DataFrame com as seguintes colunas:\n",
    "</li></ul></h3>\n",
    "<h6><ol><li>\n",
    "ValorMedio: com o valor médio de cada intervalo;\n",
    "</li><li>\n",
    "Hora: com a hora correspondente no formato HH:mm;\n",
    "</li><li>\n",
    "Data: com o dia de medição (presente na coluna Date);\n",
    "</li></ol></h6>"
   ]
  },
  {
   "cell_type": "code",
   "execution_count": 4,
   "metadata": {
    "id": "oozD5yBBhi_e"
   },
   "outputs": [
    {
     "data": {
      "text/html": [
       "<div>\n",
       "<style scoped>\n",
       "    .dataframe tbody tr th:only-of-type {\n",
       "        vertical-align: middle;\n",
       "    }\n",
       "\n",
       "    .dataframe tbody tr th {\n",
       "        vertical-align: top;\n",
       "    }\n",
       "\n",
       "    .dataframe thead th {\n",
       "        text-align: right;\n",
       "    }\n",
       "</style>\n",
       "<table border=\"1\" class=\"dataframe\">\n",
       "  <thead>\n",
       "    <tr style=\"text-align: right;\">\n",
       "      <th></th>\n",
       "      <th>RecNo</th>\n",
       "      <th>MeaValue</th>\n",
       "      <th>Weight</th>\n",
       "      <th>Time</th>\n",
       "      <th>Date</th>\n",
       "      <th>DataGroupIndex</th>\n",
       "    </tr>\n",
       "  </thead>\n",
       "  <tbody>\n",
       "    <tr>\n",
       "      <th>0</th>\n",
       "      <td>1013</td>\n",
       "      <td>60.8</td>\n",
       "      <td>A</td>\n",
       "      <td>06:39:12</td>\n",
       "      <td>2020-12-07</td>\n",
       "      <td>1</td>\n",
       "    </tr>\n",
       "    <tr>\n",
       "      <th>1</th>\n",
       "      <td>1014</td>\n",
       "      <td>60.5</td>\n",
       "      <td>A</td>\n",
       "      <td>06:39:13</td>\n",
       "      <td>2020-12-07</td>\n",
       "      <td>1</td>\n",
       "    </tr>\n",
       "    <tr>\n",
       "      <th>2</th>\n",
       "      <td>1015</td>\n",
       "      <td>43.1</td>\n",
       "      <td>A</td>\n",
       "      <td>06:39:14</td>\n",
       "      <td>2020-12-07</td>\n",
       "      <td>1</td>\n",
       "    </tr>\n",
       "  </tbody>\n",
       "</table>\n",
       "</div>"
      ],
      "text/plain": [
       "   RecNo  MeaValue Weight      Time       Date  DataGroupIndex\n",
       "0   1013      60.8      A  06:39:12 2020-12-07               1\n",
       "1   1014      60.5      A  06:39:13 2020-12-07               1\n",
       "2   1015      43.1      A  06:39:14 2020-12-07               1"
      ]
     },
     "execution_count": 4,
     "metadata": {},
     "output_type": "execute_result"
    }
   ],
   "source": [
    "# Tratando os tipos de data das columas 'Time' e 'Date'\n",
    "df['Time'] =  pd.to_datetime(df['Time'], format='%H:%M:%S').dt.time\n",
    "df['Date'] =  pd.to_datetime(df['Date'], format='%Y-%m-%d')\n",
    "\n",
    "# Substituindo ',' por '.' e tratatando os tipos de dados da coluna 'MeaValue'\n",
    "df['MeaValue'] = df['MeaValue'].str.replace(',','.')\n",
    "df['MeaValue'] = df['MeaValue'].apply(np.float64)\n",
    "\n",
    "# Imprimindo mudança da substituição na coluna 'MeaValue'\n",
    "df.head(3)\n"
   ]
  },
  {
   "cell_type": "code",
   "execution_count": 5,
   "metadata": {
    "colab": {
     "base_uri": "https://localhost:8080/"
    },
    "id": "DrV48H7EeJ16",
    "outputId": "e4c81dcc-64ea-49df-f7f8-f07df03802d3"
   },
   "outputs": [
    {
     "data": {
      "text/plain": [
       "RecNo                      int64\n",
       "MeaValue                 float64\n",
       "Weight                    object\n",
       "Time                      object\n",
       "Date              datetime64[ns]\n",
       "DataGroupIndex             int64\n",
       "dtype: object"
      ]
     },
     "execution_count": 5,
     "metadata": {},
     "output_type": "execute_result"
    }
   ],
   "source": [
    "# Imprimindo as mudanças feitas nas estruturas de dados das colunas alteradas\n",
    "df.dtypes\n"
   ]
  },
  {
   "cell_type": "code",
   "execution_count": 6,
   "metadata": {
    "colab": {
     "base_uri": "https://localhost:8080/",
     "height": 206
    },
    "id": "LrpO-cgufWQ9",
    "outputId": "6bc45096-e0c4-4d66-b177-499f2d585456"
   },
   "outputs": [],
   "source": [
    "# Criando uma cópia para podermos trabalhar e realizar alterações no DataFrame e termos um backup\n",
    "df_copia = df\n"
   ]
  },
  {
   "cell_type": "code",
   "execution_count": 7,
   "metadata": {
    "id": "ya6M0LM9eg7B"
   },
   "outputs": [
    {
     "data": {
      "text/html": [
       "<div>\n",
       "<style scoped>\n",
       "    .dataframe tbody tr th:only-of-type {\n",
       "        vertical-align: middle;\n",
       "    }\n",
       "\n",
       "    .dataframe tbody tr th {\n",
       "        vertical-align: top;\n",
       "    }\n",
       "\n",
       "    .dataframe thead th {\n",
       "        text-align: right;\n",
       "    }\n",
       "</style>\n",
       "<table border=\"1\" class=\"dataframe\">\n",
       "  <thead>\n",
       "    <tr style=\"text-align: right;\">\n",
       "      <th></th>\n",
       "      <th>RecNo</th>\n",
       "      <th>MeaValue</th>\n",
       "      <th>Weight</th>\n",
       "      <th>Time</th>\n",
       "      <th>Date</th>\n",
       "      <th>DataGroupIndex</th>\n",
       "    </tr>\n",
       "  </thead>\n",
       "  <tbody>\n",
       "    <tr>\n",
       "      <th>0</th>\n",
       "      <td>1013</td>\n",
       "      <td>60.8</td>\n",
       "      <td>A</td>\n",
       "      <td>06:39</td>\n",
       "      <td>2020-12-07</td>\n",
       "      <td>1</td>\n",
       "    </tr>\n",
       "    <tr>\n",
       "      <th>1</th>\n",
       "      <td>1014</td>\n",
       "      <td>60.5</td>\n",
       "      <td>A</td>\n",
       "      <td>06:39</td>\n",
       "      <td>2020-12-07</td>\n",
       "      <td>1</td>\n",
       "    </tr>\n",
       "    <tr>\n",
       "      <th>2</th>\n",
       "      <td>1015</td>\n",
       "      <td>43.1</td>\n",
       "      <td>A</td>\n",
       "      <td>06:39</td>\n",
       "      <td>2020-12-07</td>\n",
       "      <td>1</td>\n",
       "    </tr>\n",
       "  </tbody>\n",
       "</table>\n",
       "</div>"
      ],
      "text/plain": [
       "   RecNo  MeaValue Weight   Time       Date  DataGroupIndex\n",
       "0   1013      60.8      A  06:39 2020-12-07               1\n",
       "1   1014      60.5      A  06:39 2020-12-07               1\n",
       "2   1015      43.1      A  06:39 2020-12-07               1"
      ]
     },
     "execution_count": 7,
     "metadata": {},
     "output_type": "execute_result"
    }
   ],
   "source": [
    "# Selecione somente os intervalos contínuos de 1 minuto da coluna Time\n",
    "df_copia['Time'] = df_copia['Time'].apply(lambda t: t.strftime('%H:%M'))\n",
    "\n",
    "# Imprimindo mudança\n",
    "df_copia.head(3)\n"
   ]
  },
  {
   "cell_type": "code",
   "execution_count": 10,
   "metadata": {
    "id": "Xohe1Yvoqgjy"
   },
   "outputs": [
    {
     "data": {
      "text/html": [
       "<div>\n",
       "<style scoped>\n",
       "    .dataframe tbody tr th:only-of-type {\n",
       "        vertical-align: middle;\n",
       "    }\n",
       "\n",
       "    .dataframe tbody tr th {\n",
       "        vertical-align: top;\n",
       "    }\n",
       "\n",
       "    .dataframe thead th {\n",
       "        text-align: right;\n",
       "    }\n",
       "</style>\n",
       "<table border=\"1\" class=\"dataframe\">\n",
       "  <thead>\n",
       "    <tr style=\"text-align: right;\">\n",
       "      <th></th>\n",
       "      <th>Hora</th>\n",
       "      <th>Data</th>\n",
       "      <th>ValorMedio</th>\n",
       "    </tr>\n",
       "  </thead>\n",
       "  <tbody>\n",
       "    <tr>\n",
       "      <th>0</th>\n",
       "      <td>06:39</td>\n",
       "      <td>2020-12-07</td>\n",
       "      <td>46.8</td>\n",
       "    </tr>\n",
       "    <tr>\n",
       "      <th>1</th>\n",
       "      <td>06:40</td>\n",
       "      <td>2020-12-07</td>\n",
       "      <td>42.8</td>\n",
       "    </tr>\n",
       "    <tr>\n",
       "      <th>2</th>\n",
       "      <td>06:41</td>\n",
       "      <td>2020-12-07</td>\n",
       "      <td>38.2</td>\n",
       "    </tr>\n",
       "  </tbody>\n",
       "</table>\n",
       "</div>"
      ],
      "text/plain": [
       "    Hora       Data  ValorMedio\n",
       "0  06:39 2020-12-07        46.8\n",
       "1  06:40 2020-12-07        42.8\n",
       "2  06:41 2020-12-07        38.2"
      ]
     },
     "execution_count": 10,
     "metadata": {},
     "output_type": "execute_result"
    }
   ],
   "source": [
    "# Criando um DataFrame que irá armazenar nossos dados e resultados finais\n",
    "df_final = pd.DataFrame(columns=['ValorMedio'])\n",
    "\n",
    "# Iremos atribuir a este DataFrame a média arredondada em uma casa decimal de forma agrupada pelas colunas 'Time' e 'Date'\n",
    "df_final['ValorMedio'] = df_copia.groupby(['Time', 'Date'])[['MeaValue']].mean().round(1)\n",
    "df_final.head(2)\n",
    "\n",
    "# Normalizando a indexação do DataFrame final\n",
    "df_final.reset_index(inplace=True)\n",
    "\n",
    "# Alterando os nomes das colunas\n",
    "df_final = df_final.rename(columns = {'Time':'Hora', 'Date':'Data'})\n",
    "\n",
    "# Imprimindo resultados das mudanças\n",
    "df_final.head(3)\n"
   ]
  },
  {
   "cell_type": "code",
   "execution_count": 9,
   "metadata": {},
   "outputs": [
    {
     "name": "stdout",
     "output_type": "stream",
     "text": [
      "<class 'pandas.core.frame.DataFrame'>\n",
      "RangeIndex: 46 entries, 0 to 45\n",
      "Data columns (total 3 columns):\n",
      " #   Column      Non-Null Count  Dtype         \n",
      "---  ------      --------------  -----         \n",
      " 0   Hora        46 non-null     object        \n",
      " 1   Data        46 non-null     datetime64[ns]\n",
      " 2   ValorMedio  46 non-null     float64       \n",
      "dtypes: datetime64[ns](1), float64(1), object(1)\n",
      "memory usage: 1.2+ KB\n"
     ]
    }
   ],
   "source": [
    "df_final.info()"
   ]
  },
  {
   "cell_type": "code",
   "execution_count": 10,
   "metadata": {},
   "outputs": [
    {
     "data": {
      "text/html": [
       "<div>\n",
       "<style scoped>\n",
       "    .dataframe tbody tr th:only-of-type {\n",
       "        vertical-align: middle;\n",
       "    }\n",
       "\n",
       "    .dataframe tbody tr th {\n",
       "        vertical-align: top;\n",
       "    }\n",
       "\n",
       "    .dataframe thead th {\n",
       "        text-align: right;\n",
       "    }\n",
       "</style>\n",
       "<table border=\"1\" class=\"dataframe\">\n",
       "  <thead>\n",
       "    <tr style=\"text-align: right;\">\n",
       "      <th></th>\n",
       "      <th>Hora</th>\n",
       "      <th>Data</th>\n",
       "      <th>ValorMedio</th>\n",
       "    </tr>\n",
       "  </thead>\n",
       "  <tbody>\n",
       "    <tr>\n",
       "      <th>2</th>\n",
       "      <td>06:41</td>\n",
       "      <td>2020-12-07</td>\n",
       "      <td>38.2</td>\n",
       "    </tr>\n",
       "    <tr>\n",
       "      <th>3</th>\n",
       "      <td>06:42</td>\n",
       "      <td>2020-12-07</td>\n",
       "      <td>38.0</td>\n",
       "    </tr>\n",
       "    <tr>\n",
       "      <th>4</th>\n",
       "      <td>06:43</td>\n",
       "      <td>2020-12-07</td>\n",
       "      <td>37.1</td>\n",
       "    </tr>\n",
       "    <tr>\n",
       "      <th>5</th>\n",
       "      <td>06:44</td>\n",
       "      <td>2020-12-07</td>\n",
       "      <td>37.6</td>\n",
       "    </tr>\n",
       "    <tr>\n",
       "      <th>9</th>\n",
       "      <td>06:50</td>\n",
       "      <td>2020-12-07</td>\n",
       "      <td>38.3</td>\n",
       "    </tr>\n",
       "    <tr>\n",
       "      <th>10</th>\n",
       "      <td>06:51</td>\n",
       "      <td>2020-12-07</td>\n",
       "      <td>38.6</td>\n",
       "    </tr>\n",
       "    <tr>\n",
       "      <th>11</th>\n",
       "      <td>06:52</td>\n",
       "      <td>2020-12-07</td>\n",
       "      <td>39.4</td>\n",
       "    </tr>\n",
       "    <tr>\n",
       "      <th>12</th>\n",
       "      <td>06:53</td>\n",
       "      <td>2020-12-07</td>\n",
       "      <td>40.4</td>\n",
       "    </tr>\n",
       "    <tr>\n",
       "      <th>13</th>\n",
       "      <td>06:54</td>\n",
       "      <td>2020-12-07</td>\n",
       "      <td>39.9</td>\n",
       "    </tr>\n",
       "    <tr>\n",
       "      <th>16</th>\n",
       "      <td>06:57</td>\n",
       "      <td>2020-12-07</td>\n",
       "      <td>41.2</td>\n",
       "    </tr>\n",
       "    <tr>\n",
       "      <th>17</th>\n",
       "      <td>06:58</td>\n",
       "      <td>2020-12-07</td>\n",
       "      <td>42.6</td>\n",
       "    </tr>\n",
       "    <tr>\n",
       "      <th>18</th>\n",
       "      <td>06:59</td>\n",
       "      <td>2020-12-07</td>\n",
       "      <td>40.2</td>\n",
       "    </tr>\n",
       "    <tr>\n",
       "      <th>19</th>\n",
       "      <td>07:00</td>\n",
       "      <td>2020-12-07</td>\n",
       "      <td>42.3</td>\n",
       "    </tr>\n",
       "    <tr>\n",
       "      <th>22</th>\n",
       "      <td>07:04</td>\n",
       "      <td>2020-12-07</td>\n",
       "      <td>55.2</td>\n",
       "    </tr>\n",
       "    <tr>\n",
       "      <th>23</th>\n",
       "      <td>07:05</td>\n",
       "      <td>2020-12-07</td>\n",
       "      <td>55.9</td>\n",
       "    </tr>\n",
       "    <tr>\n",
       "      <th>24</th>\n",
       "      <td>07:06</td>\n",
       "      <td>2020-12-07</td>\n",
       "      <td>57.7</td>\n",
       "    </tr>\n",
       "    <tr>\n",
       "      <th>25</th>\n",
       "      <td>07:07</td>\n",
       "      <td>2020-12-07</td>\n",
       "      <td>53.5</td>\n",
       "    </tr>\n",
       "    <tr>\n",
       "      <th>28</th>\n",
       "      <td>07:13</td>\n",
       "      <td>2020-12-07</td>\n",
       "      <td>48.9</td>\n",
       "    </tr>\n",
       "    <tr>\n",
       "      <th>29</th>\n",
       "      <td>07:14</td>\n",
       "      <td>2020-12-07</td>\n",
       "      <td>50.5</td>\n",
       "    </tr>\n",
       "    <tr>\n",
       "      <th>32</th>\n",
       "      <td>07:19</td>\n",
       "      <td>2020-12-07</td>\n",
       "      <td>49.6</td>\n",
       "    </tr>\n",
       "    <tr>\n",
       "      <th>34</th>\n",
       "      <td>07:21</td>\n",
       "      <td>2020-12-07</td>\n",
       "      <td>50.2</td>\n",
       "    </tr>\n",
       "    <tr>\n",
       "      <th>35</th>\n",
       "      <td>07:22</td>\n",
       "      <td>2020-12-07</td>\n",
       "      <td>47.8</td>\n",
       "    </tr>\n",
       "    <tr>\n",
       "      <th>38</th>\n",
       "      <td>07:25</td>\n",
       "      <td>2020-12-07</td>\n",
       "      <td>52.2</td>\n",
       "    </tr>\n",
       "    <tr>\n",
       "      <th>39</th>\n",
       "      <td>07:26</td>\n",
       "      <td>2020-12-07</td>\n",
       "      <td>50.8</td>\n",
       "    </tr>\n",
       "    <tr>\n",
       "      <th>40</th>\n",
       "      <td>07:27</td>\n",
       "      <td>2020-12-07</td>\n",
       "      <td>50.2</td>\n",
       "    </tr>\n",
       "    <tr>\n",
       "      <th>43</th>\n",
       "      <td>07:31</td>\n",
       "      <td>2020-12-07</td>\n",
       "      <td>55.4</td>\n",
       "    </tr>\n",
       "    <tr>\n",
       "      <th>44</th>\n",
       "      <td>07:32</td>\n",
       "      <td>2020-12-07</td>\n",
       "      <td>54.5</td>\n",
       "    </tr>\n",
       "  </tbody>\n",
       "</table>\n",
       "</div>"
      ],
      "text/plain": [
       "     Hora       Data  ValorMedio\n",
       "2   06:41 2020-12-07        38.2\n",
       "3   06:42 2020-12-07        38.0\n",
       "4   06:43 2020-12-07        37.1\n",
       "5   06:44 2020-12-07        37.6\n",
       "9   06:50 2020-12-07        38.3\n",
       "10  06:51 2020-12-07        38.6\n",
       "11  06:52 2020-12-07        39.4\n",
       "12  06:53 2020-12-07        40.4\n",
       "13  06:54 2020-12-07        39.9\n",
       "16  06:57 2020-12-07        41.2\n",
       "17  06:58 2020-12-07        42.6\n",
       "18  06:59 2020-12-07        40.2\n",
       "19  07:00 2020-12-07        42.3\n",
       "22  07:04 2020-12-07        55.2\n",
       "23  07:05 2020-12-07        55.9\n",
       "24  07:06 2020-12-07        57.7\n",
       "25  07:07 2020-12-07        53.5\n",
       "28  07:13 2020-12-07        48.9\n",
       "29  07:14 2020-12-07        50.5\n",
       "32  07:19 2020-12-07        49.6\n",
       "34  07:21 2020-12-07        50.2\n",
       "35  07:22 2020-12-07        47.8\n",
       "38  07:25 2020-12-07        52.2\n",
       "39  07:26 2020-12-07        50.8\n",
       "40  07:27 2020-12-07        50.2\n",
       "43  07:31 2020-12-07        55.4\n",
       "44  07:32 2020-12-07        54.5"
      ]
     },
     "metadata": {},
     "output_type": "display_data"
    }
   ],
   "source": [
    "# Criando um DataFrame para fazer a contagem de segundos contínuos\n",
    "df_sec_continuous = pd.DataFrame(columns=['Contagem'])\n",
    "\n",
    "# Fazendo a contagem de continuidade de segundos\n",
    "df_sec_continuous = df_copia.groupby(['Time', 'Date'])[['MeaValue']].count()\n",
    "\n",
    "# Filtrando minutos sem continuidade\n",
    "df_sec_continuous = df_sec_continuous[df_sec_continuous.MeaValue == 60]\n",
    "\n",
    "# Normalizando a indexação do DataFrame\n",
    "df_sec_continuous.reset_index(inplace=True)\n",
    "\n",
    "# Alterando os nomes das colunas\n",
    "df_sec_continuous = df_sec_continuous.rename(columns = {'Time':'Hora', 'Date':'Data'})\n",
    "\n",
    "# Atualizando dataframe final com apenas os minutos com segundos continuoes entre 00 e 59 segundos\n",
    "df_final = df_final.merge(df_sec_continuous, how='left').dropna()\n",
    "\n",
    "# Fazendo o drop da coluna de contagem de continuidade de segundos\n",
    "df_final = df_final.drop(['MeaValue'], axis=1)\n",
    "\n",
    "# Imprimindo resultados\n",
    "display(df_final)\n"
   ]
  },
  {
   "cell_type": "markdown",
   "metadata": {
    "colab": {
     "base_uri": "https://localhost:8080/",
     "height": 206
    },
    "id": "A8j4fVJRqvOP",
    "outputId": "03d914ab-ca32-411d-b7ea-393fcaf303bc"
   },
   "source": [
    "***\n",
    "<h3><ul><li>\n",
    "O Desafio deve ser feito em duplas, trios ou individual. \n",
    "</li><li>\n",
    "O DataFrame deve ser salvo em .xls com o nome de “Desafio1 ;seus nomes;.xls”\n",
    "</li><li>\n",
    "Enviar por slack junto com o script em .ipynb. Todos os passos feitos no script devem estar documentados usando Markdown.\n",
    "</li></ul></h3>"
   ]
  },
  {
   "cell_type": "code",
   "execution_count": 12,
   "metadata": {},
   "outputs": [
    {
     "name": "stderr",
     "output_type": "stream",
     "text": [
      "C:\\Users\\017924631\\AppData\\Local\\Temp\\ipykernel_2668\\723124845.py:2: FutureWarning: As the xlwt package is no longer maintained, the xlwt engine will be removed in a future version of pandas. This is the only engine in pandas that supports writing in the xls format. Install openpyxl and write to an xlsx file instead. You can set the option io.excel.xls.writer to 'xlwt' to silence this warning. While this option is deprecated and will also raise a warning, it can be globally set and the warning suppressed.\n",
      "  df_final.to_excel('Desafio_1-Daniel-Harao-Rhayza.xls', sheet_name='Sheet_name_1')\n"
     ]
    }
   ],
   "source": [
    "# Salvando data frame final\n",
    "df_final.to_excel('Desafio_1-Daniel-Harao-Rhayza.xls', sheet_name='Sheet_name_1')\n"
   ]
  },
  {
   "cell_type": "code",
   "execution_count": null,
   "metadata": {},
   "outputs": [],
   "source": []
  }
 ],
 "metadata": {
  "colab": {
   "name": "Untitled5.ipynb",
   "provenance": []
  },
  "kernelspec": {
   "display_name": "Python 3 (ipykernel)",
   "language": "python",
   "name": "python3"
  },
  "language_info": {
   "codemirror_mode": {
    "name": "ipython",
    "version": 3
   },
   "file_extension": ".py",
   "mimetype": "text/x-python",
   "name": "python",
   "nbconvert_exporter": "python",
   "pygments_lexer": "ipython3",
   "version": "3.10.6"
  }
 },
 "nbformat": 4,
 "nbformat_minor": 1
}
