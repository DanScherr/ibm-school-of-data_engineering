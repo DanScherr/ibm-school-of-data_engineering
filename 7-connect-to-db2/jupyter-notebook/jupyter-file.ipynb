{
 "cells": [
  {
   "attachments": {},
   "cell_type": "markdown",
   "metadata": {},
   "source": [
    "- # **SSL connection to DB2 on IBM Cloud**\n",
    "\n",
    "- ### **Summary:**\n",
    "1. [**Installing needed libraries**](#1-installing-libraries)\n",
    "2. [**Importing environment variables**](#2-importing-environment-variables)\n",
    "3. [**Creating connection object to the DB2 instance**](#3-creating-connection-object-to-the-db2-instance)\n",
    "4. [**Running a sql view query with native ibm_db library**](#4-running-a-sql-view-query-with-native-ibm_db-library)\n",
    "5. [**Defining functions to retrieve results in a List of Dictionary**](#5-defining-functions-to-retrieve-results-in-a-list-of-dictionary)\n",
    "    - Criando uma lista de titulos de todas as tabelas da Instancia\n",
    "    - Criando uma lista de titulos de tabelas a partir de um determinado filtro\n",
    "\n",
    "    - Getting rows from a table view with the definned function\n",
    "6. [**Converting the created Dictionary into a Pandas Dataframe**](#6-converting-the-created-dictionary-into-a-pandas-dataframe)"
   ]
  },
  {
   "attachments": {},
   "cell_type": "markdown",
   "metadata": {},
   "source": [
    "## **1. Installing libraries**"
   ]
  },
  {
   "cell_type": "code",
   "execution_count": 1,
   "metadata": {},
   "outputs": [
    {
     "name": "stdout",
     "output_type": "stream",
     "text": [
      "Collecting ipython-sql\n",
      "  Downloading ipython_sql-0.4.1-py3-none-any.whl (21 kB)\n",
      "Requirement already satisfied: ipython>=1.0 in c:\\users\\017924631\\desktop\\working-tree\\ibm-school-of-data_engineering\\7-connect-to-db2\\venv\\lib\\site-packages (from ipython-sql) (8.7.0)\n",
      "Requirement already satisfied: six in c:\\users\\017924631\\desktop\\working-tree\\ibm-school-of-data_engineering\\7-connect-to-db2\\venv\\lib\\site-packages (from ipython-sql) (1.16.0)\n",
      "Collecting prettytable<1\n",
      "  Downloading prettytable-0.7.2.zip (28 kB)\n",
      "  Preparing metadata (setup.py): started\n",
      "  Preparing metadata (setup.py): finished with status 'done'\n",
      "Collecting sqlalchemy>=0.6.7\n",
      "  Downloading SQLAlchemy-1.4.45-cp310-cp310-win_amd64.whl (1.6 MB)\n",
      "     ---------------------------------------- 1.6/1.6 MB 3.0 MB/s eta 0:00:00\n",
      "Collecting ipython-genutils>=0.1.0\n",
      "  Using cached ipython_genutils-0.2.0-py2.py3-none-any.whl (26 kB)\n",
      "Collecting sqlparse\n",
      "  Downloading sqlparse-0.4.3-py3-none-any.whl (42 kB)\n",
      "     ---------------------------------------- 42.8/42.8 kB ? eta 0:00:00\n",
      "Requirement already satisfied: matplotlib-inline in c:\\users\\017924631\\desktop\\working-tree\\ibm-school-of-data_engineering\\7-connect-to-db2\\venv\\lib\\site-packages (from ipython>=1.0->ipython-sql) (0.1.6)\n",
      "Requirement already satisfied: traitlets>=5 in c:\\users\\017924631\\desktop\\working-tree\\ibm-school-of-data_engineering\\7-connect-to-db2\\venv\\lib\\site-packages (from ipython>=1.0->ipython-sql) (5.8.0)\n",
      "Requirement already satisfied: pickleshare in c:\\users\\017924631\\desktop\\working-tree\\ibm-school-of-data_engineering\\7-connect-to-db2\\venv\\lib\\site-packages (from ipython>=1.0->ipython-sql) (0.7.5)\n",
      "Requirement already satisfied: stack-data in c:\\users\\017924631\\desktop\\working-tree\\ibm-school-of-data_engineering\\7-connect-to-db2\\venv\\lib\\site-packages (from ipython>=1.0->ipython-sql) (0.6.2)\n",
      "Requirement already satisfied: decorator in c:\\users\\017924631\\desktop\\working-tree\\ibm-school-of-data_engineering\\7-connect-to-db2\\venv\\lib\\site-packages (from ipython>=1.0->ipython-sql) (5.1.1)\n",
      "Requirement already satisfied: jedi>=0.16 in c:\\users\\017924631\\desktop\\working-tree\\ibm-school-of-data_engineering\\7-connect-to-db2\\venv\\lib\\site-packages (from ipython>=1.0->ipython-sql) (0.18.2)\n",
      "Requirement already satisfied: colorama in c:\\users\\017924631\\desktop\\working-tree\\ibm-school-of-data_engineering\\7-connect-to-db2\\venv\\lib\\site-packages (from ipython>=1.0->ipython-sql) (0.4.6)\n",
      "Requirement already satisfied: prompt-toolkit<3.1.0,>=3.0.11 in c:\\users\\017924631\\desktop\\working-tree\\ibm-school-of-data_engineering\\7-connect-to-db2\\venv\\lib\\site-packages (from ipython>=1.0->ipython-sql) (3.0.36)\n",
      "Requirement already satisfied: backcall in c:\\users\\017924631\\desktop\\working-tree\\ibm-school-of-data_engineering\\7-connect-to-db2\\venv\\lib\\site-packages (from ipython>=1.0->ipython-sql) (0.2.0)\n",
      "Requirement already satisfied: pygments>=2.4.0 in c:\\users\\017924631\\desktop\\working-tree\\ibm-school-of-data_engineering\\7-connect-to-db2\\venv\\lib\\site-packages (from ipython>=1.0->ipython-sql) (2.13.0)\n",
      "Collecting greenlet!=0.4.17\n",
      "  Downloading greenlet-2.0.1-cp310-cp310-win_amd64.whl (190 kB)\n",
      "     -------------------------------------- 190.9/190.9 kB 2.9 MB/s eta 0:00:00\n",
      "Requirement already satisfied: parso<0.9.0,>=0.8.0 in c:\\users\\017924631\\desktop\\working-tree\\ibm-school-of-data_engineering\\7-connect-to-db2\\venv\\lib\\site-packages (from jedi>=0.16->ipython>=1.0->ipython-sql) (0.8.3)\n",
      "Requirement already satisfied: wcwidth in c:\\users\\017924631\\desktop\\working-tree\\ibm-school-of-data_engineering\\7-connect-to-db2\\venv\\lib\\site-packages (from prompt-toolkit<3.1.0,>=3.0.11->ipython>=1.0->ipython-sql) (0.2.5)\n",
      "Requirement already satisfied: pure-eval in c:\\users\\017924631\\desktop\\working-tree\\ibm-school-of-data_engineering\\7-connect-to-db2\\venv\\lib\\site-packages (from stack-data->ipython>=1.0->ipython-sql) (0.2.2)\n",
      "Requirement already satisfied: asttokens>=2.1.0 in c:\\users\\017924631\\desktop\\working-tree\\ibm-school-of-data_engineering\\7-connect-to-db2\\venv\\lib\\site-packages (from stack-data->ipython>=1.0->ipython-sql) (2.2.1)\n",
      "Requirement already satisfied: executing>=1.2.0 in c:\\users\\017924631\\desktop\\working-tree\\ibm-school-of-data_engineering\\7-connect-to-db2\\venv\\lib\\site-packages (from stack-data->ipython>=1.0->ipython-sql) (1.2.0)\n",
      "Building wheels for collected packages: prettytable\n",
      "  Building wheel for prettytable (setup.py): started\n",
      "  Building wheel for prettytable (setup.py): finished with status 'done'\n",
      "  Created wheel for prettytable: filename=prettytable-0.7.2-py3-none-any.whl size=13705 sha256=3b28ecc5695f5a02036e173d829a0f567b6e9d083d8ff47407bdb536727e804b\n",
      "  Stored in directory: c:\\users\\017924631\\appdata\\local\\pip\\cache\\wheels\\ec\\32\\b1\\b9dda552a609c834467b28a174fa60d2c102e17857ccafd95b\n",
      "Successfully built prettytable\n",
      "Installing collected packages: prettytable, ipython-genutils, sqlparse, greenlet, sqlalchemy, ipython-sql\n",
      "Successfully installed greenlet-2.0.1 ipython-genutils-0.2.0 ipython-sql-0.4.1 prettytable-0.7.2 sqlalchemy-1.4.45 sqlparse-0.4.3\n",
      "Collecting ibm_db\n",
      "  Downloading ibm_db-3.1.4.tar.gz (1.4 MB)\n",
      "     ---------------------------------------- 1.4/1.4 MB 6.4 MB/s eta 0:00:00\n",
      "  Installing build dependencies: started\n",
      "  Installing build dependencies: finished with status 'done'\n",
      "  Getting requirements to build wheel: started\n",
      "  Getting requirements to build wheel: finished with status 'done'\n",
      "  Installing backend dependencies: started\n",
      "  Installing backend dependencies: finished with status 'done'\n",
      "  Preparing metadata (pyproject.toml): started\n",
      "  Preparing metadata (pyproject.toml): finished with status 'done'\n",
      "Building wheels for collected packages: ibm_db\n",
      "  Building wheel for ibm_db (pyproject.toml): started\n",
      "  Building wheel for ibm_db (pyproject.toml): finished with status 'done'\n",
      "  Created wheel for ibm_db: filename=ibm_db-3.1.4-py3-none-any.whl size=330224 sha256=41111acf82f2a9547e86b692c8a8d89d8cbee128ecf52ca9fc81d0216ffd5d93\n",
      "  Stored in directory: c:\\users\\017924631\\appdata\\local\\pip\\cache\\wheels\\4a\\12\\8c\\4fdc8da3cd41ace7102a244c65ffb64e9a5e258c116c2a1c50\n",
      "Successfully built ibm_db\n",
      "Installing collected packages: ibm_db\n",
      "Successfully installed ibm_db-3.1.4\n",
      "Collecting ibm_db_sa\n",
      "  Downloading ibm_db_sa-0.3.8-py3-none-any.whl (30 kB)\n",
      "Requirement already satisfied: ibm-db>=2.0.0 in c:\\users\\017924631\\desktop\\working-tree\\ibm-school-of-data_engineering\\7-connect-to-db2\\venv\\lib\\site-packages (from ibm_db_sa) (3.1.4)\n",
      "Requirement already satisfied: sqlalchemy>=0.7.3 in c:\\users\\017924631\\desktop\\working-tree\\ibm-school-of-data_engineering\\7-connect-to-db2\\venv\\lib\\site-packages (from ibm_db_sa) (1.4.45)\n",
      "Requirement already satisfied: greenlet!=0.4.17 in c:\\users\\017924631\\desktop\\working-tree\\ibm-school-of-data_engineering\\7-connect-to-db2\\venv\\lib\\site-packages (from sqlalchemy>=0.7.3->ibm_db_sa) (2.0.1)\n",
      "Installing collected packages: ibm_db_sa\n",
      "Successfully installed ibm_db_sa-0.3.8\n"
     ]
    }
   ],
   "source": [
    "!pip install ipython-sql\n",
    "!pip install ibm_db \n",
    "!pip install ibm_db_sa"
   ]
  },
  {
   "attachments": {},
   "cell_type": "markdown",
   "metadata": {},
   "source": [
    "## **2. Importing environment variables**"
   ]
  },
  {
   "cell_type": "code",
   "execution_count": 73,
   "metadata": {},
   "outputs": [],
   "source": [
    "from dotenv import dotenv_values\n",
    "\n",
    "config = dotenv_values(\".env\")\n",
    "database, username, password, host, port = config[\"DATABASE\"], config[\"USER\"], config[\"PASSWORD\"], config[\"HOST\"], config[\"PORT\"]"
   ]
  },
  {
   "attachments": {},
   "cell_type": "markdown",
   "metadata": {},
   "source": [
    "## **3. Creating connection object to the DB2 instance**"
   ]
  },
  {
   "cell_type": "code",
   "execution_count": 2,
   "metadata": {},
   "outputs": [],
   "source": [
    "import ibm_db\n",
    "#conn = ibm_db.connect(\"database\",\"username\",\"password\") # cataloged database\n",
    "conn = ibm_db.connect(f\"DATABASE={database};HOSTNAME={host};PORT={port};PROTOCOL=TCPIP;UID={username};PWD={password};\", \"\", \"\")"
   ]
  },
  {
   "attachments": {},
   "cell_type": "markdown",
   "metadata": {},
   "source": [
    "## **4. Running a sql view query with native ibm_db library**"
   ]
  },
  {
   "cell_type": "code",
   "execution_count": 74,
   "metadata": {},
   "outputs": [
    {
     "name": "stdout",
     "output_type": "stream",
     "text": [
      "{'COL1': 0, 0: 0, 'COL2': '1', 1: '1', 'COL3': 0, 2: 0}\n"
     ]
    }
   ],
   "source": [
    "sql_view = \"SELECT * FROM MYTAB\"\n",
    "stmt_view = ibm_db.exec_immediate(conn, sql_view)\n",
    "result = ibm_db.fetch_both(stmt_view)\n",
    "print(result)"
   ]
  },
  {
   "attachments": {},
   "cell_type": "markdown",
   "metadata": {},
   "source": [
    "## **5. Defining functions to retrieve results in a List of Dictionary**"
   ]
  },
  {
   "cell_type": "code",
   "execution_count": 66,
   "metadata": {},
   "outputs": [],
   "source": [
    "def results(command):\n",
    "    \"\"\"\n",
    "    Commands to ibm_db never actually give you results. Instead, \n",
    "    you need to call one of the fetch methods on the command, \n",
    "    repeatedly, to get the results. This helper function to deal \n",
    "    with that.\n",
    "    \"\"\"\n",
    "\n",
    "    \n",
    "    from ibm_db import fetch_assoc\n",
    "\n",
    "    ret = []\n",
    "    result = fetch_assoc(command)\n",
    "    while result:\n",
    "        # This builds a list in memory. Theoretically, if there's a lot of rows,\n",
    "        # we could run out of memory. In practice, I've never had that happen.\n",
    "        # If it's ever a problem, you could use\n",
    "        #     yield result\n",
    "        # Then this function would become a generator. You lose the ability to access\n",
    "        # results by index or slice them or whatever, but you retain\n",
    "        # the ability to iterate on them.\n",
    "        ret.append(result)\n",
    "        result = fetch_assoc(command)\n",
    "        #print(result)\n",
    "    return ret  # Ditch this line if you choose to use a generator.\n",
    "\n",
    "\n",
    "def filter_table_param(stack:list, param:str, filter:str):\n",
    "    \"\"\"\n",
    "    This function receives a stack list of dicts and iteracts eache one \n",
    "    filtering a given parameter by a given filter string.\n",
    "    \"\"\"\n",
    "\n",
    "\n",
    "    s = []\n",
    "    for i in stack:\n",
    "        if i[param] == filter:\n",
    "            s.append(i)\n",
    "    return s\n"
   ]
  },
  {
   "attachments": {},
   "cell_type": "markdown",
   "metadata": {},
   "source": [
    "- ### Criando uma lista de titulos de todas as tabelas da Instancia\n",
    "- ### Criando uma lista de titulos de tabelas a partir de um determinado filtro"
   ]
  },
  {
   "cell_type": "code",
   "execution_count": 61,
   "metadata": {},
   "outputs": [
    {
     "name": "stdout",
     "output_type": "stream",
     "text": [
      "[{'TABLE_CAT': None, 'TABLE_SCHEM': 'FXK17670', 'TABLE_NAME': 'MYTAB', 'TABLE_TYPE': 'TABLE', 'REMARKS': None}]\n"
     ]
    }
   ],
   "source": [
    "from ibm_db import tables\n",
    "\n",
    "all_titles = results(tables(conn))\n",
    "filtered_titles = filter_table_param(all_titles, 'TABLE_SCHEM', 'FXK17670')\n",
    "print(filtered_titles)"
   ]
  },
  {
   "attachments": {},
   "cell_type": "markdown",
   "metadata": {},
   "source": [
    "- ### Getting rows from a table view with the definned function"
   ]
  },
  {
   "cell_type": "code",
   "execution_count": 70,
   "metadata": {},
   "outputs": [],
   "source": [
    "from ibm_db import exec_immediate\n",
    "\n",
    "sql = 'SELECT * FROM ' + filtered_titles[0]['TABLE_NAME']  # Using our list of tables filtered_titles from before...\n",
    "rows = results(exec_immediate(conn, sql))\n",
    "print(rows)"
   ]
  },
  {
   "attachments": {},
   "cell_type": "markdown",
   "metadata": {},
   "source": [
    "## **6. Converting the created Dictionary into a Pandas Dataframe**"
   ]
  },
  {
   "cell_type": "code",
   "execution_count": 72,
   "metadata": {},
   "outputs": [
    {
     "name": "stdout",
     "output_type": "stream",
     "text": [
      "Collecting pandas\n",
      "  Using cached pandas-1.5.2-cp310-cp310-win_amd64.whl (10.4 MB)\n",
      "Requirement already satisfied: python-dateutil>=2.8.1 in c:\\users\\017924631\\desktop\\working-tree\\ibm-school-of-data_engineering\\7-connect-to-db2\\venv\\lib\\site-packages (from pandas) (2.8.2)\n",
      "Collecting numpy>=1.21.0\n",
      "  Downloading numpy-1.24.1-cp310-cp310-win_amd64.whl (14.8 MB)\n",
      "     ---------------------------------------- 14.8/14.8 MB 7.6 MB/s eta 0:00:00\n",
      "Collecting pytz>=2020.1\n",
      "  Downloading pytz-2022.7-py2.py3-none-any.whl (499 kB)\n",
      "     -------------------------------------- 499.4/499.4 kB 7.8 MB/s eta 0:00:00\n",
      "Requirement already satisfied: six>=1.5 in c:\\users\\017924631\\desktop\\working-tree\\ibm-school-of-data_engineering\\7-connect-to-db2\\venv\\lib\\site-packages (from python-dateutil>=2.8.1->pandas) (1.16.0)\n",
      "Installing collected packages: pytz, numpy, pandas\n",
      "Successfully installed numpy-1.24.1 pandas-1.5.2 pytz-2022.7\n"
     ]
    },
    {
     "data": {
      "text/html": [
       "<div>\n",
       "<style scoped>\n",
       "    .dataframe tbody tr th:only-of-type {\n",
       "        vertical-align: middle;\n",
       "    }\n",
       "\n",
       "    .dataframe tbody tr th {\n",
       "        vertical-align: top;\n",
       "    }\n",
       "\n",
       "    .dataframe thead th {\n",
       "        text-align: right;\n",
       "    }\n",
       "</style>\n",
       "<table border=\"1\" class=\"dataframe\">\n",
       "  <thead>\n",
       "    <tr style=\"text-align: right;\">\n",
       "      <th></th>\n",
       "      <th>COL1</th>\n",
       "      <th>COL2</th>\n",
       "      <th>COL3</th>\n",
       "    </tr>\n",
       "  </thead>\n",
       "  <tbody>\n",
       "    <tr>\n",
       "      <th>0</th>\n",
       "      <td>0</td>\n",
       "      <td>1</td>\n",
       "      <td>0</td>\n",
       "    </tr>\n",
       "    <tr>\n",
       "      <th>1</th>\n",
       "      <td>2</td>\n",
       "      <td>2</td>\n",
       "      <td>2</td>\n",
       "    </tr>\n",
       "    <tr>\n",
       "      <th>2</th>\n",
       "      <td>2</td>\n",
       "      <td>2</td>\n",
       "      <td>2</td>\n",
       "    </tr>\n",
       "  </tbody>\n",
       "</table>\n",
       "</div>"
      ],
      "text/plain": [
       "   COL1 COL2  COL3\n",
       "0     0    1     0\n",
       "1     2    2     2\n",
       "2     2    2     2"
      ]
     },
     "execution_count": 72,
     "metadata": {},
     "output_type": "execute_result"
    }
   ],
   "source": [
    "!pip install pandas\n",
    "import pandas as pd\n",
    "\n",
    "pd.DataFrame.from_dict(rows)"
   ]
  }
 ],
 "metadata": {
  "kernelspec": {
   "display_name": "venv",
   "language": "python",
   "name": "python3"
  },
  "language_info": {
   "codemirror_mode": {
    "name": "ipython",
    "version": 3
   },
   "file_extension": ".py",
   "mimetype": "text/x-python",
   "name": "python",
   "nbconvert_exporter": "python",
   "pygments_lexer": "ipython3",
   "version": "3.10.6 (tags/v3.10.6:9c7b4bd, Aug  1 2022, 21:53:49) [MSC v.1932 64 bit (AMD64)]"
  },
  "orig_nbformat": 4,
  "vscode": {
   "interpreter": {
    "hash": "f679912fbf3d4c87d5617027a17aea07605a5bd2398bdbfaac02d0c8953ac774"
   }
  }
 },
 "nbformat": 4,
 "nbformat_minor": 2
}
